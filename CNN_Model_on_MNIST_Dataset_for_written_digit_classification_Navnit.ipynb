{
  "nbformat": 4,
  "nbformat_minor": 0,
  "metadata": {
    "colab": {
      "provenance": []
    },
    "kernelspec": {
      "name": "python3",
      "display_name": "Python 3"
    },
    "language_info": {
      "name": "python"
    }
  },
  "cells": [
    {
      "cell_type": "code",
      "execution_count": 16,
      "metadata": {
        "colab": {
          "base_uri": "https://localhost:8080/"
        },
        "id": "3VhZLkj8fGJN",
        "outputId": "44994120-b790-4c28-ad5e-0ed198322770"
      },
      "outputs": [
        {
          "output_type": "stream",
          "name": "stdout",
          "text": [
            "(60000, 28, 28) (60000,)\n"
          ]
        }
      ],
      "source": [
        "# The MNIST dataset is an acronym that stands for the Modified National Institute of Standards and Technology dataset.\n",
        "#Test loss: 0.0241182143806917\n",
        "#Test accuracy: 0.9933000206947327\n",
        "import keras\n",
        "from keras.datasets import mnist\n",
        "from keras.models import Sequential\n",
        "from keras.layers import Dense, Dropout, Flatten\n",
        "from keras.layers import Conv2D, MaxPooling2D\n",
        "from keras import backend as K\n",
        "\n",
        "# the data, split between train and test sets\n",
        "(x_train, y_train), (x_test, y_test) = mnist.load_data()\n",
        "\n",
        "print(x_train.shape, y_train.shape)"
      ]
    },
    {
      "cell_type": "code",
      "source": [
        "x_train = x_train.reshape(x_train.shape[0], 28, 28, 1)\n",
        "x_test = x_test.reshape(x_test.shape[0], 28, 28, 1)\n",
        "input_shape = (28, 28, 1)"
      ],
      "metadata": {
        "id": "B8asM45khepR"
      },
      "execution_count": 17,
      "outputs": []
    },
    {
      "cell_type": "code",
      "source": [
        "y_train = keras.utils.to_categorical(y_train, 10)\n",
        "y_test = keras.utils.to_categorical(y_test, 10)\n",
        "\n",
        "x_train = x_train.astype('float32')\n",
        "x_test = x_test.astype('float32')\n",
        "x_train /= 255\n",
        "x_test /= 255\n",
        "print('x_train shape:', x_train.shape)\n",
        "print(x_train.shape[0], 'train samples')\n",
        "print(x_test.shape[0], 'test samples')\n",
        "\n",
        "batch_size = 128\n",
        "num_classes = 10\n",
        "epochs = 10\n",
        "\n",
        "model = Sequential()\n",
        "model.add(Conv2D(32, kernel_size=(5, 5),activation='relu',input_shape=input_shape))\n",
        "model.add(MaxPooling2D(pool_size=(2, 2)))\n",
        "model.add(Conv2D(64, (3, 3), activation='relu'))\n",
        "model.add(MaxPooling2D(pool_size=(2, 2)))\n",
        "model.add(Flatten())\n",
        "model.add(Dense(128, activation='relu'))\n",
        "model.add(Dropout(0.3))\n",
        "model.add(Dense(64, activation='relu'))\n",
        "model.add(Dropout(0.5))\n",
        "model.add(Dense(num_classes, activation='softmax'))\n",
        "\n",
        "model.compile(loss=keras.losses.categorical_crossentropy,optimizer=keras.optimizers.Adadelta(),metrics=['accuracy'])\n",
        "\n",
        "hist = model.fit(x_train, y_train,batch_size=batch_size,epochs=epochs,verbose=1,validation_data=(x_test, y_test))\n",
        "print(\"The model has successfully trained\")\n",
        "\n",
        "score = model.evaluate(x_test, y_test, verbose=0)\n",
        "print('Test loss:', score[0])\n",
        "print('Test accuracy:', score[1])\n",
        "\n",
        "model.save('mnist.h5')\n",
        "print(\"Saving the model as mnist.h5\")"
      ],
      "metadata": {
        "colab": {
          "base_uri": "https://localhost:8080/"
        },
        "id": "mvbWe5ROhhIz",
        "outputId": "e6173650-be85-4fe0-e17f-00bc6db6af75"
      },
      "execution_count": 18,
      "outputs": [
        {
          "output_type": "stream",
          "name": "stdout",
          "text": [
            "x_train shape: (60000, 28, 28, 1)\n",
            "60000 train samples\n",
            "10000 test samples\n",
            "Epoch 1/10\n",
            "469/469 [==============================] - 52s 103ms/step - loss: 2.3092 - accuracy: 0.1076 - val_loss: 2.2881 - val_accuracy: 0.1076\n",
            "Epoch 2/10\n",
            "469/469 [==============================] - 44s 94ms/step - loss: 2.2922 - accuracy: 0.1255 - val_loss: 2.2726 - val_accuracy: 0.1335\n",
            "Epoch 3/10\n",
            "469/469 [==============================] - 46s 98ms/step - loss: 2.2783 - accuracy: 0.1414 - val_loss: 2.2579 - val_accuracy: 0.1961\n",
            "Epoch 4/10\n",
            "469/469 [==============================] - 43s 93ms/step - loss: 2.2639 - accuracy: 0.1646 - val_loss: 2.2422 - val_accuracy: 0.2677\n",
            "Epoch 5/10\n",
            "469/469 [==============================] - 45s 96ms/step - loss: 2.2503 - accuracy: 0.1825 - val_loss: 2.2246 - val_accuracy: 0.3196\n",
            "Epoch 6/10\n",
            "469/469 [==============================] - 44s 94ms/step - loss: 2.2340 - accuracy: 0.2020 - val_loss: 2.2051 - val_accuracy: 0.3732\n",
            "Epoch 7/10\n",
            "469/469 [==============================] - 45s 96ms/step - loss: 2.2178 - accuracy: 0.2229 - val_loss: 2.1837 - val_accuracy: 0.4215\n",
            "Epoch 8/10\n",
            "469/469 [==============================] - 45s 95ms/step - loss: 2.1982 - accuracy: 0.2421 - val_loss: 2.1598 - val_accuracy: 0.4470\n",
            "Epoch 9/10\n",
            "469/469 [==============================] - 44s 95ms/step - loss: 2.1773 - accuracy: 0.2627 - val_loss: 2.1333 - val_accuracy: 0.4595\n",
            "Epoch 10/10\n",
            "469/469 [==============================] - 44s 93ms/step - loss: 2.1550 - accuracy: 0.2740 - val_loss: 2.1042 - val_accuracy: 0.4759\n",
            "The model has successfully trained\n",
            "Test loss: 2.104243040084839\n",
            "Test accuracy: 0.47589999437332153\n",
            "Saving the model as mnist.h5\n"
          ]
        },
        {
          "output_type": "stream",
          "name": "stderr",
          "text": [
            "/usr/local/lib/python3.10/dist-packages/keras/src/engine/training.py:3103: UserWarning: You are saving your model as an HDF5 file via `model.save()`. This file format is considered legacy. We recommend using instead the native Keras format, e.g. `model.save('my_model.keras')`.\n",
            "  saving_api.save_model(\n"
          ]
        }
      ]
    }
  ]
}